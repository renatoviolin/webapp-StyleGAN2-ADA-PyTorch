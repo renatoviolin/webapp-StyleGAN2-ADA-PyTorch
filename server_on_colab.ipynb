{
  "nbformat": 4,
  "nbformat_minor": 0,
  "metadata": {
    "colab": {
      "name": "server-colab.ipynb",
      "provenance": [],
      "collapsed_sections": []
    },
    "kernelspec": {
      "name": "python3",
      "display_name": "Python 3"
    },
    "language_info": {
      "name": "python"
    },
    "accelerator": "GPU"
  },
  "cells": [
    {
      "cell_type": "code",
      "metadata": {
        "id": "pMY6248B-wUI"
      },
      "source": [
        "!git clone https://github.com/renatoviolin/webapp-StyleGAN2-ADA-PyTorch.git"
      ],
      "execution_count": null,
      "outputs": []
    },
    {
      "cell_type": "code",
      "metadata": {
        "id": "7822faG9-_cH"
      },
      "source": [
        "%cd webapp-StyleGAN2-ADA-PyTorch/"
      ],
      "execution_count": null,
      "outputs": []
    },
    {
      "cell_type": "code",
      "metadata": {
        "id": "Rr0rm1FX_MP5"
      },
      "source": [
        "!pip install -r requirements.txt\n",
        "!pip install fastapi nest-asyncio pyngrok uvicorn"
      ],
      "execution_count": null,
      "outputs": []
    },
    {
      "cell_type": "code",
      "metadata": {
        "id": "ov13677u_Pik"
      },
      "source": [
        "%cd web-app"
      ],
      "execution_count": null,
      "outputs": []
    },
    {
      "cell_type": "code",
      "metadata": {
        "id": "tzFmu1ee_rvA"
      },
      "source": [
        "import nest_asyncio\n",
        "from pyngrok import ngrok"
      ],
      "execution_count": 4,
      "outputs": []
    },
    {
      "cell_type": "code",
      "metadata": {
        "id": "DVNf-Pd-AQaP"
      },
      "source": [
        "ngrok_tunnel = ngrok.connect(8000)\n",
        "print('Public URL:', ngrok_tunnel.public_url)\n",
        "nest_asyncio.apply()\n",
        "!uvicorn app:app --host 0.0.0.0 --port 8000"
      ],
      "execution_count": null,
      "outputs": []
    }
  ]
}